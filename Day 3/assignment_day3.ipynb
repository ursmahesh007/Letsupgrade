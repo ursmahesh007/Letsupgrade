{
 "cells": [
  {
   "cell_type": "markdown",
   "metadata": {},
   "source": [
    "Assignment 1\n",
    "\n",
    "Name: Mahesh Sercat Ramakumar"
   ]
  },
  {
   "cell_type": "markdown",
   "metadata": {},
   "source": [
    "Question 1 :\n",
    "Write a program to subtract two complex numbers in Python"
   ]
  },
  {
   "cell_type": "code",
   "execution_count": 15,
   "metadata": {},
   "outputs": [
    {
     "data": {
      "text/plain": [
       "(-2+5j)"
      ]
     },
     "execution_count": 15,
     "metadata": {},
     "output_type": "execute_result"
    }
   ],
   "source": [
    "a = 3+2j\n",
    "b = 5-3j\n",
    "\n",
    "c = a-b\n",
    "c"
   ]
  },
  {
   "cell_type": "markdown",
   "metadata": {},
   "source": [
    "Question 2 :\n",
    "Write a program to find the fourth root of a number.\n"
   ]
  },
  {
   "cell_type": "code",
   "execution_count": 16,
   "metadata": {},
   "outputs": [
    {
     "data": {
      "text/plain": [
       "2.0"
      ]
     },
     "execution_count": 16,
     "metadata": {},
     "output_type": "execute_result"
    }
   ],
   "source": [
    "a=16\n",
    "\n",
    "fourthroot = a**(1/4)\n",
    "fourthroot"
   ]
  },
  {
   "cell_type": "markdown",
   "metadata": {},
   "source": [
    "Question 3:\n",
    "Write a program to swap two numbers in Python with the help of a temporary variable."
   ]
  },
  {
   "cell_type": "code",
   "execution_count": 30,
   "metadata": {},
   "outputs": [
    {
     "name": "stdout",
     "output_type": "stream",
     "text": [
      "Before swapping\n",
      "a = 2 \n",
      "b = 4\n",
      "\n",
      "After swapping\n",
      "a = 4 \n",
      "b = 2\n"
     ]
    }
   ],
   "source": [
    "a=2\n",
    "b=4\n",
    "print(\"Before swapping\\na =\",a, \"\\nb =\",b)\n",
    "\n",
    "temp=a\n",
    "a=b\n",
    "b=temp\n",
    "\n",
    "print(\"\\nAfter swapping\\na =\",a, \"\\nb =\",b)\n"
   ]
  },
  {
   "cell_type": "markdown",
   "metadata": {},
   "source": [
    "Question 4:\n",
    "Write a program to swap two numbers in Python without using a temporary variable.\n"
   ]
  },
  {
   "cell_type": "code",
   "execution_count": 31,
   "metadata": {},
   "outputs": [
    {
     "name": "stdout",
     "output_type": "stream",
     "text": [
      "Before swapping\n",
      "a = 2 \n",
      "b = 4\n",
      "\n",
      "After swapping\n",
      "a = 4 \n",
      "b = 2\n"
     ]
    }
   ],
   "source": [
    "a=2\n",
    "b=4\n",
    "print(\"Before swapping\\na =\",a, \"\\nb =\",b)\n",
    "\n",
    "a,b = b,a\n",
    "\n",
    "print(\"\\nAfter swapping\\na =\",a, \"\\nb =\",b)"
   ]
  },
  {
   "cell_type": "markdown",
   "metadata": {},
   "source": [
    "Question 5:\n",
    "Write a program to convert fahrenheit to kelvin and celsius both.\n"
   ]
  },
  {
   "cell_type": "code",
   "execution_count": 36,
   "metadata": {},
   "outputs": [
    {
     "name": "stdout",
     "output_type": "stream",
     "text": [
      "Fahrenheit in Kelvin 311.27777777777777\n",
      "Fahrenheit in Celsius 37.77777777777778\n"
     ]
    }
   ],
   "source": [
    "F = 100\n",
    "\n",
    "F_to_K = 273.5 + ((F - 32.0) * (5.0/9.0))\n",
    "F_to_C = (F - 32) * 5 / 9\n",
    "\n",
    "print(\"Fahrenheit in Kelvin\", F_to_K)\n",
    "print(\"Fahrenheit in Celsius\", F_to_C)"
   ]
  },
  {
   "cell_type": "markdown",
   "metadata": {},
   "source": [
    "Question 6:\n",
    "Write a program to demonstrate all the available data types in Python. Hint: Use type() function.\n"
   ]
  },
  {
   "cell_type": "code",
   "execution_count": 42,
   "metadata": {},
   "outputs": [
    {
     "name": "stdout",
     "output_type": "stream",
     "text": [
      "<class 'int'>\n",
      "<class 'float'>\n",
      "<class 'complex'>\n",
      "<class 'str'>\n",
      "<class 'bool'>\n",
      "<class 'list'>\n",
      "<class 'tuple'>\n",
      "<class 'set'>\n",
      "<class 'dict'>\n",
      "<class 'range'>\n"
     ]
    }
   ],
   "source": [
    "print(type(5))\n",
    "print(type(99999.99999))\n",
    "print(type(7-7j))\n",
    "print(type(\"Hello World!\"))\n",
    "print(type(False))\n",
    "print(type([1,2]))\n",
    "print(type(('p','u','t')))\n",
    "print(type({2,4,5,6}))\n",
    "print(type({\"a\":\"apple\", \"b\":\"bat\"}))\n",
    "print(type(range(0,9)))"
   ]
  },
  {
   "cell_type": "markdown",
   "metadata": {},
   "source": [
    "Question 7:\n",
    "Create a Markdown cell in jupyter and list the steps discussed in the session by Dr. Darshan\n",
    "Ingle sir to create Github profile and upload Githubs Assignment link."
   ]
  },
  {
   "cell_type": "markdown",
   "metadata": {},
   "source": [
    "Answer:\n",
    "Create github account from URL www.github.com and login to github account.\n",
    "\n",
    "Go to repository section and click new to create new repository.\n",
    "\n",
    "Set the repository name to \"LetsUpgrade AI-ML\"\n",
    "\n",
    "Add description as Assignments\n",
    "\n",
    "Set repository public accessibility to public.\n",
    "\n",
    "Scroll down and click on create repository.\n",
    "\n",
    "Go to your system/Desktop and create a folder named as Day3.\n",
    "\n",
    "Inside Day3 folder create new .ipynb file and write your assignment codes inside .ipynb file and save.\n",
    "\n",
    "Go back to your github and click on \"LetsUpgrade AI-ML\" repository.\n",
    "\n",
    "Drag folder Day3 and drop on the \"LetsUpgrade AI-ML\" repository in browser from your desktop.\n",
    "\n",
    "Once files are added click on commit changes.\n",
    "\n",
    "Now browse inside the Day3 folder of \"LetsUpgrade AI-ML\" repository and copy URL from the browser.\n",
    "\n",
    "Go to \"Assignment Submit Form : https://bit.ly/aimlassignment \" (google form).\n",
    "Enter Registered E-mail, Name, Phone Number and paste the copied github URL in the \"Give Github URL\" section and click submit.\n"
   ]
  },
  {
   "cell_type": "code",
   "execution_count": null,
   "metadata": {},
   "outputs": [],
   "source": []
  }
 ],
 "metadata": {
  "kernelspec": {
   "display_name": "Python 3",
   "language": "python",
   "name": "python3"
  },
  "language_info": {
   "codemirror_mode": {
    "name": "ipython",
    "version": 3
   },
   "file_extension": ".py",
   "mimetype": "text/x-python",
   "name": "python",
   "nbconvert_exporter": "python",
   "pygments_lexer": "ipython3",
   "version": "3.7.6"
  }
 },
 "nbformat": 4,
 "nbformat_minor": 2
}
