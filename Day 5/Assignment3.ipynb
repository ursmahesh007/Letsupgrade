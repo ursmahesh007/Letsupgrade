{
 "cells": [
  {
   "cell_type": "markdown",
   "metadata": {},
   "source": [
    "Assignment 3\n",
    "\n",
    "Name:Mahesh Sercat Ramakumar"
   ]
  },
  {
   "cell_type": "markdown",
   "metadata": {},
   "source": [
    "Write a Python program to find the first 20 non-even prime natural numbers.\n"
   ]
  },
  {
   "cell_type": "code",
   "execution_count": null,
   "metadata": {},
   "outputs": [],
   "source": [
    "a = []\n",
    "for Number in range (1, 100):\n",
    "    count = 0\n",
    "    for i in range(2, (Number//2 + 1)):\n",
    "        if(Number % i == 0):\n",
    "            count = count + 1\n",
    "        \n",
    "    if (count == 0 and Number != 1):\n",
    "        a.append(Number)\n",
    "a=a[0:20]   \n",
    "\n",
    "print(\"First 20 non-even prime natural numbers:\", a)"
   ]
  },
  {
   "cell_type": "markdown",
   "metadata": {},
   "source": [
    "Question 2 :\n",
    "Write a Python program to implement 15 functions of string"
   ]
  },
  {
   "cell_type": "code",
   "execution_count": null,
   "metadata": {},
   "outputs": [],
   "source": [
    "str1 = \"Hello World!\"\n",
    "\n",
    "print(\"frequency of letter 'o': \",str1.count('o'))\n",
    "print(\"String Concatenation:\", str1+str2)\n",
    "print(\"Split function:\", str1.split())\n",
    "print(\"Upper case:\", str1.upper())\n",
    "print(\"Lower case:\", str1.lower())\n",
    "print(\"Check if the given string is in lowercase: \", str1.islower())\n",
    "print(\"Check if the given string is in uppercase: \", str1.isupper())\n",
    "print(\"changing the case of the string: \", str1.swapcase())\n",
    "print(\"Capitalize capitalizes the first letter of the sentence\", str1.capitalize())\n",
    "print(\"title() is used to title-case the given sentence:\", str1.title())\n",
    "print(\"find() is used to check the first occurence of given letter:\", str1.find(\"o\"))\n",
    "print(\"endswith() returns true or false if the given character is the last character of the string:\", str1.endswith(\"!\"))\n",
    "print(\"startswith() returns true or false if the given character is the first character of the string:\", str1.startswith(\"H\"))\n",
    "print(\"01\".isdecimal())\n",
    "print(\" \".isspace())"
   ]
  },
  {
   "cell_type": "markdown",
   "metadata": {},
   "source": [
    "Question 3:\n",
    "Write a Python program to check if the given string is a Palindrome or Anagram or None of them.\n",
    "Display the message accordingly to the user."
   ]
  },
  {
   "cell_type": "code",
   "execution_count": 23,
   "metadata": {
    "scrolled": false
   },
   "outputs": [
    {
     "name": "stdout",
     "output_type": "stream",
     "text": [
      "No, the given string is not Palindrome\n",
      "Yes, the strings are anagrams\n"
     ]
    }
   ],
   "source": [
    "s1 = \"eat\"\n",
    "s2 = \"tea\"\n",
    "s1 = s1.lower()\n",
    "s2 = s2.lower()\n",
    "\n",
    "palin = False\n",
    "if(s1 == s1[::-1]):\n",
    "    palin = True\n",
    "\n",
    "ana = False\n",
    "if(sorted(s1)== sorted(s2)):\n",
    "    ana = True\n",
    "\n",
    "if(palin):\n",
    "    print(\"Yes, the given string is Palindrome\")\n",
    "else:\n",
    "    print(\"No, the given string is not Palindrome\")\n",
    "    \n",
    "if(ana):\n",
    "     print(\"Yes, the strings are anagrams\")\n",
    "else:\n",
    "     print(\"No, the strings are not anagrams\") \n",
    "\n",
    "if(palin == False and ana== False):\n",
    "    print(\"None of them\")\n"
   ]
  },
  {
   "cell_type": "markdown",
   "metadata": {},
   "source": [
    "Question 4:\n",
    "Write a Python's user defined function that removes all the additional characters from the string\n",
    "and converts it finally to lower case using built-in lower(). eg: If the string is \"Dr. Darshan Ingle\n",
    "@AI-ML Trainer\", then the output be \"drdarshaningle aimltrainer\"."
   ]
  },
  {
   "cell_type": "code",
   "execution_count": 41,
   "metadata": {},
   "outputs": [
    {
     "name": "stdout",
     "output_type": "stream",
     "text": [
      "drdarshaningleaimltrainer\n"
     ]
    }
   ],
   "source": [
    "s = \"Dr. Darshan Ingle @AI-ML Trainer\"\n",
    "\n",
    "s = s.lower()\n",
    "\n",
    "t = \"\"\n",
    "\n",
    "for i in s:\n",
    "    if i.isalpha():\n",
    "        t+=i\n",
    "print(t)"
   ]
  },
  {
   "cell_type": "code",
   "execution_count": null,
   "metadata": {},
   "outputs": [],
   "source": []
  }
 ],
 "metadata": {
  "kernelspec": {
   "display_name": "Python 3",
   "language": "python",
   "name": "python3"
  },
  "language_info": {
   "codemirror_mode": {
    "name": "ipython",
    "version": 3
   },
   "file_extension": ".py",
   "mimetype": "text/x-python",
   "name": "python",
   "nbconvert_exporter": "python",
   "pygments_lexer": "ipython3",
   "version": "3.7.6"
  }
 },
 "nbformat": 4,
 "nbformat_minor": 2
}
